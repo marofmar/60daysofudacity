{
  "nbformat": 4,
  "nbformat_minor": 0,
  "metadata": {
    "colab": {
      "name": "L7_9:ToyFederatedLearning(Day11).ipynb",
      "version": "0.3.2",
      "provenance": [],
      "include_colab_link": true
    },
    "kernelspec": {
      "name": "python3",
      "display_name": "Python 3"
    }
  },
  "cells": [
    {
      "cell_type": "markdown",
      "metadata": {
        "id": "view-in-github",
        "colab_type": "text"
      },
      "source": [
        "<a href=\"https://colab.research.google.com/github/marofmar/60daysofudacity/blob/master/L7_9_ToyFederatedLearning(Day11).ipynb\" target=\"_parent\"><img src=\"https://colab.research.google.com/assets/colab-badge.svg\" alt=\"Open In Colab\"/></a>"
      ]
    },
    {
      "cell_type": "code",
      "metadata": {
        "id": "L2kZl-VowDse",
        "colab_type": "code",
        "colab": {}
      },
      "source": [
        "\n",
        "import torch as th\n",
        "!pip install syft\n",
        "import syft as sy"
      ],
      "execution_count": 0,
      "outputs": []
    },
    {
      "cell_type": "code",
      "metadata": {
        "id": "1q1zP_E96QGA",
        "colab_type": "code",
        "colab": {}
      },
      "source": [
        "hook = sy.TorchHook(th)\n",
        "bob = sy.VirtualWorker(hook, id = 'bob')"
      ],
      "execution_count": 0,
      "outputs": []
    },
    {
      "cell_type": "code",
      "metadata": {
        "id": "70-L69bz6qIh",
        "colab_type": "code",
        "colab": {}
      },
      "source": [
        "alice = sy.VirtualWorker(hook, id = 'alice')"
      ],
      "execution_count": 0,
      "outputs": []
    },
    {
      "cell_type": "code",
      "metadata": {
        "id": "x7Qg_tkp8T19",
        "colab_type": "code",
        "outputId": "e5b67019-f603-4466-9e50-e8489c7d04d1",
        "colab": {
          "base_uri": "https://localhost:8080/",
          "height": 34
        }
      },
      "source": [
        "bob"
      ],
      "execution_count": 0,
      "outputs": [
        {
          "output_type": "execute_result",
          "data": {
            "text/plain": [
              "<VirtualWorker id:bob #objects:0>"
            ]
          },
          "metadata": {
            "tags": []
          },
          "execution_count": 21
        }
      ]
    },
    {
      "cell_type": "code",
      "metadata": {
        "id": "xmD_HShB8U4F",
        "colab_type": "code",
        "outputId": "0225fee4-0b6d-4d61-8f84-75303c8c571b",
        "colab": {
          "base_uri": "https://localhost:8080/",
          "height": 34
        }
      },
      "source": [
        "alice"
      ],
      "execution_count": 0,
      "outputs": [
        {
          "output_type": "execute_result",
          "data": {
            "text/plain": [
              "<VirtualWorker id:alice #objects:0>"
            ]
          },
          "metadata": {
            "tags": []
          },
          "execution_count": 22
        }
      ]
    },
    {
      "cell_type": "markdown",
      "metadata": {
        "id": "HLQ7Eenh67ig",
        "colab_type": "text"
      },
      "source": [
        "# Toy Federated Learning\n",
        "- a toy dataset\n",
        "- a model\n",
        "- some basic training logic for training a model to fit the data\n"
      ]
    },
    {
      "cell_type": "code",
      "metadata": {
        "id": "2mmVvL9j7V-Q",
        "colab_type": "code",
        "colab": {}
      },
      "source": [
        "from torch import nn, optim"
      ],
      "execution_count": 0,
      "outputs": []
    },
    {
      "cell_type": "code",
      "metadata": {
        "id": "CxLY2WDM7Bn8",
        "colab_type": "code",
        "colab": {}
      },
      "source": [
        "data = th.tensor([[1.,1],[1.,0],[0,1.],[0,0]], requires_grad = True)\n",
        "target = th.tensor([[1.],[1],[0],[0]], requires_grad = True)"
      ],
      "execution_count": 0,
      "outputs": []
    },
    {
      "cell_type": "code",
      "metadata": {
        "id": "HSXKEP3F7QxX",
        "colab_type": "code",
        "colab": {}
      },
      "source": [
        "model = nn.Linear(2,1)"
      ],
      "execution_count": 0,
      "outputs": []
    },
    {
      "cell_type": "code",
      "metadata": {
        "id": "gYyzj5jG7SX-",
        "colab_type": "code",
        "colab": {}
      },
      "source": [
        "opt = optim.SGD(params = model.parameters(), lr = 0.1)"
      ],
      "execution_count": 0,
      "outputs": []
    },
    {
      "cell_type": "code",
      "metadata": {
        "id": "L-MpXMSf7dh7",
        "colab_type": "code",
        "outputId": "710bda03-3ef5-48ef-958d-6b81cd328eba",
        "colab": {
          "base_uri": "https://localhost:8080/",
          "height": 357
        }
      },
      "source": [
        "def train(iterations = 20):\n",
        "  for iter in range(iterations):\n",
        "    \n",
        "  \n",
        "    opt.zero_grad()\n",
        "    pred = model(data)\n",
        "    loss = ((pred-target)**2).sum()\n",
        "    loss.backward()\n",
        "    opt.step()\n",
        "    print(loss.data)\n",
        "    \n",
        "train()"
      ],
      "execution_count": 0,
      "outputs": [
        {
          "output_type": "stream",
          "text": [
            "tensor(0.0024)\n",
            "tensor(0.0019)\n",
            "tensor(0.0014)\n",
            "tensor(0.0011)\n",
            "tensor(0.0008)\n",
            "tensor(0.0006)\n",
            "tensor(0.0005)\n",
            "tensor(0.0004)\n",
            "tensor(0.0003)\n",
            "tensor(0.0002)\n",
            "tensor(0.0002)\n",
            "tensor(0.0001)\n",
            "tensor(9.6829e-05)\n",
            "tensor(7.4040e-05)\n",
            "tensor(5.6614e-05)\n",
            "tensor(4.3291e-05)\n",
            "tensor(3.3102e-05)\n",
            "tensor(2.5312e-05)\n",
            "tensor(1.9355e-05)\n",
            "tensor(1.4800e-05)\n"
          ],
          "name": "stdout"
        }
      ]
    },
    {
      "cell_type": "code",
      "metadata": {
        "id": "sB0vV7TF7e36",
        "colab_type": "code",
        "colab": {}
      },
      "source": [
        "data_bob = data[0:2].send(bob)\n",
        "target_bob = target[0:2].send(bob)"
      ],
      "execution_count": 0,
      "outputs": []
    },
    {
      "cell_type": "code",
      "metadata": {
        "id": "Pnt_t99Y7frI",
        "colab_type": "code",
        "colab": {}
      },
      "source": [
        "data_alice= data[0:2].send(alice)\n",
        "target_alice = target[0:2].send(alice)"
      ],
      "execution_count": 0,
      "outputs": []
    },
    {
      "cell_type": "code",
      "metadata": {
        "id": "Q4ZS6wZ57htj",
        "colab_type": "code",
        "colab": {}
      },
      "source": [
        "datasets = [(data_bob, target_bob), (data_alice, target_alice)]"
      ],
      "execution_count": 0,
      "outputs": []
    },
    {
      "cell_type": "code",
      "metadata": {
        "id": "4i8OqtID7imM",
        "colab_type": "code",
        "colab": {}
      },
      "source": [
        "model = nn.Linear(2,1)\n",
        "opt = optim.SGD(params = model.parameters(), lr = 0.1)"
      ],
      "execution_count": 0,
      "outputs": []
    },
    {
      "cell_type": "code",
      "metadata": {
        "id": "m53C0wgW7k75",
        "colab_type": "code",
        "outputId": "cb62c97c-bca5-4263-e98f-648733f5b359",
        "colab": {
          "base_uri": "https://localhost:8080/",
          "height": 34
        }
      },
      "source": [
        "_data, _target = datasets[0]\n",
        "\n",
        "# send model to the data\n",
        "model = model.send(_data.location)\n",
        "\n",
        "# do normal training\n",
        "opt.zero_grad()\n",
        "pred = model(_data)\n",
        "loss = ((pred-_target)**2).sum()\n",
        "loss.backward()\n",
        "opt.step()\n",
        "\n",
        "# get smarter model back\n",
        "model = model.get()\n",
        "print(loss.get())"
      ],
      "execution_count": 0,
      "outputs": [
        {
          "output_type": "stream",
          "text": [
            "tensor(0.2127, requires_grad=True)\n"
          ],
          "name": "stdout"
        }
      ]
    },
    {
      "cell_type": "code",
      "metadata": {
        "id": "fvba3xoc9gU2",
        "colab_type": "code",
        "outputId": "d9d21742-1eb5-44f4-8e76-1b2a8d998e5a",
        "colab": {
          "base_uri": "https://localhost:8080/",
          "height": 51
        }
      },
      "source": [
        "for _data, _target in datasets:\n",
        "\n",
        "  # send model to the data\n",
        "  model = model.send(_data.location)\n",
        "\n",
        "  # do normal training\n",
        "  opt.zero_grad()\n",
        "  pred = model(_data)\n",
        "  loss = ((pred-_target)**2).sum()\n",
        "  loss.backward()\n",
        "  opt.step()\n",
        "\n",
        "  # get smarter model back\n",
        "  model = model.get()\n",
        "  print(loss.get())"
      ],
      "execution_count": 0,
      "outputs": [
        {
          "output_type": "stream",
          "text": [
            "tensor(0.1770, requires_grad=True)\n",
            "tensor(0.1473, requires_grad=True)\n"
          ],
          "name": "stdout"
        }
      ]
    },
    {
      "cell_type": "code",
      "metadata": {
        "id": "iCNyrTS89tf9",
        "colab_type": "code",
        "colab": {}
      },
      "source": [
        "def train(iterations = 20):\n",
        "  model = nn.Linear(2,1)\n",
        "  opt = optim.SGD(params = model.parameters(), lr = 0.1)\n",
        "  \n",
        "  for iter in range(iterations):\n",
        "    \n",
        "\n",
        "    for _data, _target in datasets:\n",
        "\n",
        "      # send model to the data\n",
        "      model = model.send(_data.location)\n",
        "\n",
        "      # do normal training\n",
        "      opt.zero_grad()\n",
        "      pred = model(_data)\n",
        "      loss = ((pred-_target)**2).sum()\n",
        "      loss.backward()\n",
        "      opt.step()\n",
        "\n",
        "      # get smarter model back\n",
        "      model = model.get()\n",
        "      print(loss.get())"
      ],
      "execution_count": 0,
      "outputs": []
    },
    {
      "cell_type": "code",
      "metadata": {
        "id": "95-8wRps98b3",
        "colab_type": "code",
        "outputId": "b87c3636-fc26-43aa-98f5-f928e9131d4b",
        "colab": {
          "base_uri": "https://localhost:8080/",
          "height": 697
        }
      },
      "source": [
        "train()"
      ],
      "execution_count": 0,
      "outputs": [
        {
          "output_type": "stream",
          "text": [
            "tensor(2.3348, requires_grad=True)\n",
            "tensor(0.1567, requires_grad=True)\n",
            "tensor(0.1167, requires_grad=True)\n",
            "tensor(0.0970, requires_grad=True)\n",
            "tensor(0.0808, requires_grad=True)\n",
            "tensor(0.0672, requires_grad=True)\n",
            "tensor(0.0559, requires_grad=True)\n",
            "tensor(0.0466, requires_grad=True)\n",
            "tensor(0.0388, requires_grad=True)\n",
            "tensor(0.0323, requires_grad=True)\n",
            "tensor(0.0268, requires_grad=True)\n",
            "tensor(0.0223, requires_grad=True)\n",
            "tensor(0.0186, requires_grad=True)\n",
            "tensor(0.0155, requires_grad=True)\n",
            "tensor(0.0129, requires_grad=True)\n",
            "tensor(0.0107, requires_grad=True)\n",
            "tensor(0.0089, requires_grad=True)\n",
            "tensor(0.0074, requires_grad=True)\n",
            "tensor(0.0062, requires_grad=True)\n",
            "tensor(0.0051, requires_grad=True)\n",
            "tensor(0.0043, requires_grad=True)\n",
            "tensor(0.0036, requires_grad=True)\n",
            "tensor(0.0030, requires_grad=True)\n",
            "tensor(0.0025, requires_grad=True)\n",
            "tensor(0.0021, requires_grad=True)\n",
            "tensor(0.0017, requires_grad=True)\n",
            "tensor(0.0014, requires_grad=True)\n",
            "tensor(0.0012, requires_grad=True)\n",
            "tensor(0.0010, requires_grad=True)\n",
            "tensor(0.0008, requires_grad=True)\n",
            "tensor(0.0007, requires_grad=True)\n",
            "tensor(0.0006, requires_grad=True)\n",
            "tensor(0.0005, requires_grad=True)\n",
            "tensor(0.0004, requires_grad=True)\n",
            "tensor(0.0003, requires_grad=True)\n",
            "tensor(0.0003, requires_grad=True)\n",
            "tensor(0.0002, requires_grad=True)\n",
            "tensor(0.0002, requires_grad=True)\n",
            "tensor(0.0002, requires_grad=True)\n",
            "tensor(0.0001, requires_grad=True)\n"
          ],
          "name": "stdout"
        }
      ]
    },
    {
      "cell_type": "code",
      "metadata": {
        "id": "EfoVHnKt-EGl",
        "colab_type": "code",
        "outputId": "78a29f6d-e131-4e7e-8a96-c58e70221b75",
        "colab": {
          "base_uri": "https://localhost:8080/",
          "height": 51
        }
      },
      "source": [
        "model = nn.Linear(2,1)\n",
        "opt = optim.SGD(params = model.parameters(), lr = 0.01)\n",
        "for _data, _target in datasets:\n",
        "  model = model.send(_data.location)\n",
        "  \n",
        "  opt.zero_grad()\n",
        "  pred = model(_data)\n",
        "  loss = ((pred-_target)**2).sum()\n",
        "  loss.backward()\n",
        "  opt.step()\n",
        "  \n",
        "  model = model.get()\n",
        "  print(loss.get())\n",
        "  "
      ],
      "execution_count": 0,
      "outputs": [
        {
          "output_type": "stream",
          "text": [
            "tensor(9.5977, requires_grad=True)\n",
            "tensor(7.9522, requires_grad=True)\n"
          ],
          "name": "stdout"
        }
      ]
    },
    {
      "cell_type": "code",
      "metadata": {
        "id": "-LAleW3W-dWb",
        "colab_type": "code",
        "outputId": "2e3a4276-6d3c-4966-fd1c-e52b3347f9b8",
        "colab": {
          "base_uri": "https://localhost:8080/",
          "height": 34
        }
      },
      "source": [
        "loss.backward()"
      ],
      "execution_count": 0,
      "outputs": [
        {
          "output_type": "execute_result",
          "data": {
            "text/plain": [
              "(Wrapper)>[PointerTensor | me:72233573677 -> bob:13457229239]"
            ]
          },
          "metadata": {
            "tags": []
          },
          "execution_count": 50
        }
      ]
    },
    {
      "cell_type": "code",
      "metadata": {
        "id": "bRGg7uEC-eOH",
        "colab_type": "code",
        "colab": {}
      },
      "source": [
        "opt.step()"
      ],
      "execution_count": 0,
      "outputs": []
    },
    {
      "cell_type": "code",
      "metadata": {
        "id": "qoelqB_1-hrj",
        "colab_type": "code",
        "colab": {}
      },
      "source": [
        "model = model.get()"
      ],
      "execution_count": 0,
      "outputs": []
    },
    {
      "cell_type": "code",
      "metadata": {
        "id": "1RaCAsrr-jyG",
        "colab_type": "code",
        "outputId": "a7fb49d2-8413-45e3-f78b-e4c1cbeea0bd",
        "colab": {
          "base_uri": "https://localhost:8080/",
          "height": 34
        }
      },
      "source": [
        "print(loss.get())"
      ],
      "execution_count": 0,
      "outputs": [
        {
          "output_type": "stream",
          "text": [
            "tensor(0.2574, requires_grad=True)\n"
          ],
          "name": "stdout"
        }
      ]
    },
    {
      "cell_type": "code",
      "metadata": {
        "id": "x5sE5SwY-la1",
        "colab_type": "code",
        "colab": {}
      },
      "source": [
        ""
      ],
      "execution_count": 0,
      "outputs": []
    }
  ]
}