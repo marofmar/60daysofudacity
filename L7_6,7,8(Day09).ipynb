{
  "nbformat": 4,
  "nbformat_minor": 0,
  "metadata": {
    "colab": {
      "name": "L7_6,7,8(Day09).ipynb",
      "version": "0.3.2",
      "provenance": [],
      "collapsed_sections": [],
      "include_colab_link": true
    },
    "kernelspec": {
      "name": "python3",
      "display_name": "Python 3"
    },
    "accelerator": "GPU"
  },
  "cells": [
    {
      "cell_type": "markdown",
      "metadata": {
        "id": "view-in-github",
        "colab_type": "text"
      },
      "source": [
        "<a href=\"https://colab.research.google.com/github/marofmar/60daysofudacity/blob/master/L7_6%2C7%2C8(Day09).ipynb\" target=\"_parent\"><img src=\"https://colab.research.google.com/assets/colab-badge.svg\" alt=\"Open In Colab\"/></a>"
      ]
    },
    {
      "cell_type": "code",
      "metadata": {
        "id": "4V-VYy8XKeeo",
        "colab_type": "code",
        "colab": {}
      },
      "source": [
        "import torch as th\n",
        "!pip install syft\n",
        "import syft as sy"
      ],
      "execution_count": 0,
      "outputs": []
    },
    {
      "cell_type": "code",
      "metadata": {
        "id": "kHQbIV6hVKfi",
        "colab_type": "code",
        "colab": {}
      },
      "source": [
        "hook = sy.TorchHook(th) \n",
        "bob = sy.VirtualWorker(hook, id = 'bob')"
      ],
      "execution_count": 0,
      "outputs": []
    },
    {
      "cell_type": "code",
      "metadata": {
        "id": "8ZE9s5YpVXW5",
        "colab_type": "code",
        "colab": {}
      },
      "source": [
        "x = th.tensor([1,2,3,4,5]).send(bob) \n",
        "y = th.tensor([1,1,1,1,1]).send(bob)"
      ],
      "execution_count": 0,
      "outputs": []
    },
    {
      "cell_type": "code",
      "metadata": {
        "id": "jTz3ayeSVgLr",
        "colab_type": "code",
        "outputId": "c84e485f-72d9-41e9-a058-c145decb4c19",
        "colab": {
          "base_uri": "https://localhost:8080/",
          "height": 34
        }
      },
      "source": [
        "x"
      ],
      "execution_count": 0,
      "outputs": [
        {
          "output_type": "execute_result",
          "data": {
            "text/plain": [
              "(Wrapper)>[PointerTensor | me:26702357767 -> bob:55118974860]"
            ]
          },
          "metadata": {
            "tags": []
          },
          "execution_count": 5
        }
      ]
    },
    {
      "cell_type": "code",
      "metadata": {
        "id": "sPHi1VlDVgng",
        "colab_type": "code",
        "outputId": "e59780ef-86ef-4448-a2fc-f2b262fb5f0f",
        "colab": {
          "base_uri": "https://localhost:8080/",
          "height": 34
        }
      },
      "source": [
        "y"
      ],
      "execution_count": 0,
      "outputs": [
        {
          "output_type": "execute_result",
          "data": {
            "text/plain": [
              "(Wrapper)>[PointerTensor | me:38372826403 -> bob:662688987]"
            ]
          },
          "metadata": {
            "tags": []
          },
          "execution_count": 6
        }
      ]
    },
    {
      "cell_type": "code",
      "metadata": {
        "id": "_13J_L5vVhKu",
        "colab_type": "code",
        "colab": {}
      },
      "source": [
        "z = x+y"
      ],
      "execution_count": 0,
      "outputs": []
    },
    {
      "cell_type": "code",
      "metadata": {
        "id": "V8AENCMEVinC",
        "colab_type": "code",
        "outputId": "025ca806-376c-4a6e-a8c7-97bf95bd0aaa",
        "colab": {
          "base_uri": "https://localhost:8080/",
          "height": 34
        }
      },
      "source": [
        "z"
      ],
      "execution_count": 0,
      "outputs": [
        {
          "output_type": "execute_result",
          "data": {
            "text/plain": [
              "(Wrapper)>[PointerTensor | me:32728448973 -> bob:11078853731]"
            ]
          },
          "metadata": {
            "tags": []
          },
          "execution_count": 8
        }
      ]
    },
    {
      "cell_type": "code",
      "metadata": {
        "id": "F4MJUmJ4VjBj",
        "colab_type": "code",
        "outputId": "4c0683f2-8dd9-40e7-c7a4-fe3f3a933105",
        "colab": {
          "base_uri": "https://localhost:8080/",
          "height": 34
        }
      },
      "source": [
        "z = z.get()\n",
        "z"
      ],
      "execution_count": 0,
      "outputs": [
        {
          "output_type": "execute_result",
          "data": {
            "text/plain": [
              "tensor([2, 3, 4, 5, 6])"
            ]
          },
          "metadata": {
            "tags": []
          },
          "execution_count": 9
        }
      ]
    },
    {
      "cell_type": "code",
      "metadata": {
        "id": "mNUezaRzWoyU",
        "colab_type": "code",
        "outputId": "0b2297c4-6ef5-4a4d-f1f1-d4bcb215d019",
        "colab": {
          "base_uri": "https://localhost:8080/",
          "height": 34
        }
      },
      "source": [
        "z = th.add(x,y)\n",
        "z"
      ],
      "execution_count": 0,
      "outputs": [
        {
          "output_type": "execute_result",
          "data": {
            "text/plain": [
              "(Wrapper)>[PointerTensor | me:56678727739 -> bob:63987109027]"
            ]
          },
          "metadata": {
            "tags": []
          },
          "execution_count": 12
        }
      ]
    },
    {
      "cell_type": "code",
      "metadata": {
        "id": "sDeAIY-_WqlM",
        "colab_type": "code",
        "outputId": "73c77e97-1e20-42c4-f2cb-728e6999a6b4",
        "colab": {
          "base_uri": "https://localhost:8080/",
          "height": 34
        }
      },
      "source": [
        "z = z.get()\n",
        "z"
      ],
      "execution_count": 0,
      "outputs": [
        {
          "output_type": "execute_result",
          "data": {
            "text/plain": [
              "tensor([2, 3, 4, 5, 6])"
            ]
          },
          "metadata": {
            "tags": []
          },
          "execution_count": 13
        }
      ]
    },
    {
      "cell_type": "code",
      "metadata": {
        "id": "MukpQUbIWv8L",
        "colab_type": "code",
        "colab": {}
      },
      "source": [
        "x = th.tensor([1,2,3.,4,5], requires_grad = True).send(bob)\n",
        "y = th.tensor([1.,1,1,1,1], requires_grad = True).send(bob)"
      ],
      "execution_count": 0,
      "outputs": []
    },
    {
      "cell_type": "code",
      "metadata": {
        "id": "fczNKQzWXDUO",
        "colab_type": "code",
        "colab": {}
      },
      "source": [
        "z = (x+y).sum()"
      ],
      "execution_count": 0,
      "outputs": []
    },
    {
      "cell_type": "code",
      "metadata": {
        "id": "WeFzIcZea_LD",
        "colab_type": "code",
        "outputId": "db0d8350-0e3c-4419-d403-53a53a87a2ec",
        "colab": {
          "base_uri": "https://localhost:8080/",
          "height": 34
        }
      },
      "source": [
        "z.backward()"
      ],
      "execution_count": 0,
      "outputs": [
        {
          "output_type": "execute_result",
          "data": {
            "text/plain": [
              "(Wrapper)>[PointerTensor | me:74952275377 -> bob:8502644253]"
            ]
          },
          "metadata": {
            "tags": []
          },
          "execution_count": 20
        }
      ]
    },
    {
      "cell_type": "code",
      "metadata": {
        "id": "IXdytp9QbAAI",
        "colab_type": "code",
        "colab": {}
      },
      "source": [
        "x = x.get()"
      ],
      "execution_count": 0,
      "outputs": []
    },
    {
      "cell_type": "code",
      "metadata": {
        "id": "r1QgZpxsbB8t",
        "colab_type": "code",
        "outputId": "7b16bde7-10ef-4e7a-80c9-e8d51c833d2c",
        "colab": {
          "base_uri": "https://localhost:8080/",
          "height": 34
        }
      },
      "source": [
        "x"
      ],
      "execution_count": 0,
      "outputs": [
        {
          "output_type": "execute_result",
          "data": {
            "text/plain": [
              "tensor([1., 2., 3., 4., 5.], requires_grad=True)"
            ]
          },
          "metadata": {
            "tags": []
          },
          "execution_count": 22
        }
      ]
    },
    {
      "cell_type": "code",
      "metadata": {
        "id": "_dmeyO4HbCcY",
        "colab_type": "code",
        "outputId": "e0b97134-0c4d-4382-9bc7-fcfd29930ea4",
        "colab": {
          "base_uri": "https://localhost:8080/",
          "height": 34
        }
      },
      "source": [
        "x.grad"
      ],
      "execution_count": 0,
      "outputs": [
        {
          "output_type": "execute_result",
          "data": {
            "text/plain": [
              "tensor([1., 1., 1., 1., 1.])"
            ]
          },
          "metadata": {
            "tags": []
          },
          "execution_count": 23
        }
      ]
    },
    {
      "cell_type": "code",
      "metadata": {
        "id": "bzQCTGdHbFGW",
        "colab_type": "code",
        "colab": {}
      },
      "source": [
        ""
      ],
      "execution_count": 0,
      "outputs": []
    },
    {
      "cell_type": "markdown",
      "metadata": {
        "id": "Xv8YJ08YbTFD",
        "colab_type": "text"
      },
      "source": [
        "# Project: Learn a Simple Linear Model\n",
        "\n",
        "In this project, I'd like for you to create a simple linear model which will solve for the following dataset below. You should use only Variables and .backward() to do so (no optimizers or nn.Modules). Furthermore, you must do so with both the data and the model being located on Bob's machine."
      ]
    },
    {
      "cell_type": "code",
      "metadata": {
        "id": "RYQNZFvdbXKy",
        "colab_type": "code",
        "colab": {}
      },
      "source": [
        "# 6x + 8 = 50\n",
        "x = th.tensor([7.,10,13], requires_grad = True).send(bob)\n",
        "#x = th.tensor([1,2,3.,4,5], requires_grad = True).send(bob)\n",
        "y = th.tensor([14., 20, 26], requires_grad = True).send(bob)"
      ],
      "execution_count": 0,
      "outputs": []
    },
    {
      "cell_type": "code",
      "metadata": {
        "id": "awQfR3zYiptv",
        "colab_type": "code",
        "colab": {}
      },
      "source": [
        "z = x+10"
      ],
      "execution_count": 0,
      "outputs": []
    },
    {
      "cell_type": "code",
      "metadata": {
        "id": "23esmtAViyou",
        "colab_type": "code",
        "outputId": "60c27f21-7d37-4c2b-d630-f8fd6001e67a",
        "colab": {
          "base_uri": "https://localhost:8080/",
          "height": 34
        }
      },
      "source": [
        "z"
      ],
      "execution_count": 0,
      "outputs": [
        {
          "output_type": "execute_result",
          "data": {
            "text/plain": [
              "(Wrapper)>[PointerTensor | me:57939563706 -> bob:71257046830]"
            ]
          },
          "metadata": {
            "tags": []
          },
          "execution_count": 54
        }
      ]
    },
    {
      "cell_type": "code",
      "metadata": {
        "id": "n0yo4i4ki4Eo",
        "colab_type": "code",
        "colab": {}
      },
      "source": [
        "z.backward() #error"
      ],
      "execution_count": 0,
      "outputs": []
    },
    {
      "cell_type": "code",
      "metadata": {
        "id": "D3jweDUijYut",
        "colab_type": "code",
        "outputId": "3b519eb7-be85-4a7f-cba1-f7258a1eb235",
        "colab": {
          "base_uri": "https://localhost:8080/",
          "height": 34
        }
      },
      "source": [
        "z"
      ],
      "execution_count": 0,
      "outputs": [
        {
          "output_type": "execute_result",
          "data": {
            "text/plain": [
              "(Wrapper)>[PointerTensor | me:41092139718 -> bob:84670148964]"
            ]
          },
          "metadata": {
            "tags": []
          },
          "execution_count": 36
        }
      ]
    },
    {
      "cell_type": "code",
      "metadata": {
        "id": "X3Zo9hSKjbHj",
        "colab_type": "code",
        "outputId": "1505ad91-9a55-42ef-cb67-ad5cc8b16426",
        "colab": {
          "base_uri": "https://localhost:8080/",
          "height": 34
        }
      },
      "source": [
        "z.get()"
      ],
      "execution_count": 0,
      "outputs": [
        {
          "output_type": "execute_result",
          "data": {
            "text/plain": [
              "tensor([20., 32., 44.], requires_grad=True)"
            ]
          },
          "metadata": {
            "tags": []
          },
          "execution_count": 37
        }
      ]
    },
    {
      "cell_type": "code",
      "metadata": {
        "id": "WJISI5drjcYb",
        "colab_type": "code",
        "outputId": "1e9d6bd2-c106-45e7-b739-cd461a4f51b4",
        "colab": {
          "base_uri": "https://localhost:8080/",
          "height": 34
        }
      },
      "source": [
        "x.get()"
      ],
      "execution_count": 0,
      "outputs": [
        {
          "output_type": "execute_result",
          "data": {
            "text/plain": [
              "tensor([1., 2., 3.], requires_grad=True)"
            ]
          },
          "metadata": {
            "tags": []
          },
          "execution_count": 41
        }
      ]
    },
    {
      "cell_type": "code",
      "metadata": {
        "id": "3AZ_UO23jdpU",
        "colab_type": "code",
        "outputId": "98b53d55-b6be-4cfa-86a1-e9d160825926",
        "colab": {
          "base_uri": "https://localhost:8080/",
          "height": 34
        }
      },
      "source": [
        "y.get()"
      ],
      "execution_count": 0,
      "outputs": [
        {
          "output_type": "execute_result",
          "data": {
            "text/plain": [
              "tensor([14., 20., 26.], requires_grad=True)"
            ]
          },
          "metadata": {
            "tags": []
          },
          "execution_count": 42
        }
      ]
    },
    {
      "cell_type": "code",
      "metadata": {
        "id": "jSzwedxhlUi8",
        "colab_type": "code",
        "colab": {}
      },
      "source": [
        "z = th.add(x,y)"
      ],
      "execution_count": 0,
      "outputs": []
    },
    {
      "cell_type": "code",
      "metadata": {
        "id": "vp6TYFxklWSB",
        "colab_type": "code",
        "colab": {}
      },
      "source": [
        "z.backward() #error"
      ],
      "execution_count": 0,
      "outputs": []
    },
    {
      "cell_type": "code",
      "metadata": {
        "id": "N_tPBYGhlaBO",
        "colab_type": "code",
        "colab": {}
      },
      "source": [
        "input = th.tensor([[1.1,1],[0.,1],[1.,0],[0,0]], requires_grad = True).send(bob)\n",
        "target = th.tensor([[1.],[1.],[0],[0]], requires_grad = True).send(bob)"
      ],
      "execution_count": 0,
      "outputs": []
    },
    {
      "cell_type": "code",
      "metadata": {
        "id": "2Jlk4V5pr95b",
        "colab_type": "code",
        "colab": {}
      },
      "source": [
        "weights = th.tensor([[0.],[0.]], requires_grad = True).send(bob)"
      ],
      "execution_count": 0,
      "outputs": []
    },
    {
      "cell_type": "code",
      "metadata": {
        "id": "fCC22hTozAYa",
        "colab_type": "code",
        "colab": {}
      },
      "source": [
        "pred = input.mm(weights)"
      ],
      "execution_count": 0,
      "outputs": []
    },
    {
      "cell_type": "code",
      "metadata": {
        "id": "yPsOj_4nzFCa",
        "colab_type": "code",
        "colab": {}
      },
      "source": [
        "loss =( (pred-target)**2).sum()"
      ],
      "execution_count": 0,
      "outputs": []
    },
    {
      "cell_type": "code",
      "metadata": {
        "id": "68T4dad6zKby",
        "colab_type": "code",
        "outputId": "e2208037-92e2-4e0e-d57b-104bda678a20",
        "colab": {
          "base_uri": "https://localhost:8080/",
          "height": 34
        }
      },
      "source": [
        "pred = input.mm(weights)\n",
        "loss.backward()"
      ],
      "execution_count": 0,
      "outputs": [
        {
          "output_type": "execute_result",
          "data": {
            "text/plain": [
              "(Wrapper)>[PointerTensor | me:19013013329 -> bob:62681675544]"
            ]
          },
          "metadata": {
            "tags": []
          },
          "execution_count": 60
        }
      ]
    },
    {
      "cell_type": "code",
      "metadata": {
        "id": "ySW4YyYAzM2w",
        "colab_type": "code",
        "outputId": "e07b2c45-0482-4526-8882-b5772a59c193",
        "colab": {
          "base_uri": "https://localhost:8080/",
          "height": 187
        }
      },
      "source": [
        "for i in range(10):\n",
        "\n",
        "  pred = input.mm(weights)\n",
        "  loss =( (pred-target)**2).sum()\n",
        "  pred = input.mm(weights)\n",
        "  loss.backward()\n",
        "  weights.data.sub_(weights.grad*0.1)\n",
        "  weights.grad*=0\n",
        "\n",
        "  print(loss.get().data)"
      ],
      "execution_count": 0,
      "outputs": [
        {
          "output_type": "stream",
          "text": [
            "tensor(0.1412)\n",
            "tensor(0.0827)\n",
            "tensor(0.0519)\n",
            "tensor(0.0331)\n",
            "tensor(0.0212)\n",
            "tensor(0.0135)\n",
            "tensor(0.0087)\n",
            "tensor(0.0055)\n",
            "tensor(0.0036)\n",
            "tensor(0.0023)\n"
          ],
          "name": "stdout"
        }
      ]
    },
    {
      "cell_type": "markdown",
      "metadata": {
        "id": "yEMeQyuL0dQV",
        "colab_type": "text"
      },
      "source": [
        "# Practice"
      ]
    },
    {
      "cell_type": "code",
      "metadata": {
        "id": "MgQ08PE7090L",
        "colab_type": "code",
        "outputId": "b707df75-7e26-4bfa-d7af-387ea395de74",
        "colab": {
          "base_uri": "https://localhost:8080/",
          "height": 54
        }
      },
      "source": [
        "hook = sy.TorchHook(th) \n",
        "alice = sy.VirtualWorker(hook, id = 'alice')"
      ],
      "execution_count": 0,
      "outputs": [
        {
          "output_type": "stream",
          "text": [
            "W0707 14:26:15.376127 139936032589696 hook.py:98] Torch was already hooked... skipping hooking process\n"
          ],
          "name": "stderr"
        }
      ]
    },
    {
      "cell_type": "code",
      "metadata": {
        "id": "Dok2WQfj0aoe",
        "colab_type": "code",
        "colab": {}
      },
      "source": [
        "input = th.tensor([[1.,1],[1.,0],[0,1.],[0,0]],requires_grad = True).send('alice')\n",
        "target = th.tensor([[1.],[1.],[1.],[0]],requires_grad = True).send('alice')"
      ],
      "execution_count": 0,
      "outputs": []
    },
    {
      "cell_type": "code",
      "metadata": {
        "id": "sz2TMkzX0y1F",
        "colab_type": "code",
        "colab": {}
      },
      "source": [
        "\n",
        "weights = th.tensor([[0.],[0.]], requires_grad = True).send('alice')"
      ],
      "execution_count": 0,
      "outputs": []
    },
    {
      "cell_type": "code",
      "metadata": {
        "id": "pTqKu0jx1-Jg",
        "colab_type": "code",
        "colab": {}
      },
      "source": [
        "pred = input.mm(weights)"
      ],
      "execution_count": 0,
      "outputs": []
    },
    {
      "cell_type": "code",
      "metadata": {
        "id": "YvHyLi4Y2Nc4",
        "colab_type": "code",
        "colab": {}
      },
      "source": [
        "loss = ((pred-target)**2).sum()"
      ],
      "execution_count": 0,
      "outputs": []
    },
    {
      "cell_type": "code",
      "metadata": {
        "id": "j2mSlJMM2Rai",
        "colab_type": "code",
        "outputId": "46f77b3d-e480-412b-e621-35ca4bc7b556",
        "colab": {
          "base_uri": "https://localhost:8080/",
          "height": 34
        }
      },
      "source": [
        "loss.backward()"
      ],
      "execution_count": 0,
      "outputs": [
        {
          "output_type": "execute_result",
          "data": {
            "text/plain": [
              "(Wrapper)>[PointerTensor | me:96982983816 -> alice:2543271148]"
            ]
          },
          "metadata": {
            "tags": []
          },
          "execution_count": 79
        }
      ]
    },
    {
      "cell_type": "code",
      "metadata": {
        "id": "vU9Y9i7H2SxH",
        "colab_type": "code",
        "outputId": "1dea2dbc-c1e0-4819-ddec-55e25872ae42",
        "colab": {
          "base_uri": "https://localhost:8080/",
          "height": 102
        }
      },
      "source": [
        "# for i in range(10):\n",
        "\n",
        "#   pred = input.mm(weights)\n",
        "#   loss =( (pred-target)**2).sum()\n",
        "#   #pred = input.mm(weights)\n",
        "#   loss.backward()\n",
        "#   weights.data.sub_(weights.grad*0.1)\n",
        "#   weights.grad*=0\n",
        "\n",
        "#   print(loss.get().data)\n",
        "  \n",
        "for i in range(5):\n",
        "    pred = input.mm(weights)\n",
        "    loss = ((pred-target)**2).sum()\n",
        "    loss.backward()\n",
        "    weights.data.sub_(weights.grad*0.1)\n",
        "    weights.grad*=0 \n",
        "    print(loss.get().data)"
      ],
      "execution_count": 0,
      "outputs": [
        {
          "output_type": "stream",
          "text": [
            "tensor(3.)\n",
            "tensor(0.4400)\n",
            "tensor(0.3504)\n",
            "tensor(0.3361)\n",
            "tensor(0.3338)\n"
          ],
          "name": "stdout"
        }
      ]
    },
    {
      "cell_type": "code",
      "metadata": {
        "id": "QYt37PBz2yz_",
        "colab_type": "code",
        "outputId": "a0db2ac3-d606-47ca-e404-d93e6f4973ee",
        "colab": {
          "base_uri": "https://localhost:8080/",
          "height": 102
        }
      },
      "source": [
        "# input, target, weights settled\n",
        "\n",
        "for i in range(5):\n",
        "  pred = input.mm(weights)\n",
        "  loss = ((pred-target)**2).sum()\n",
        "  loss.backward() \n",
        "  weights.data.sub(weights.grad*0.1) \n",
        "  weights.grad*=0\n",
        "  print(loss.get().data)"
      ],
      "execution_count": 0,
      "outputs": [
        {
          "output_type": "stream",
          "text": [
            "tensor(0.3334)\n",
            "tensor(0.3334)\n",
            "tensor(0.3334)\n",
            "tensor(0.3334)\n",
            "tensor(0.3334)\n"
          ],
          "name": "stdout"
        }
      ]
    },
    {
      "cell_type": "code",
      "metadata": {
        "id": "THYvLaMl5CRN",
        "colab_type": "code",
        "colab": {}
      },
      "source": [
        ""
      ],
      "execution_count": 0,
      "outputs": []
    }
  ]
}